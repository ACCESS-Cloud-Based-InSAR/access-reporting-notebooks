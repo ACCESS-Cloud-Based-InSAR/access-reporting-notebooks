{
 "cells": [
  {
   "cell_type": "markdown",
   "id": "06777295-cd0b-4ade-9895-75bd9293d8ea",
   "metadata": {},
   "source": [
    "# HyP3 GUNW Product Count"
   ]
  },
  {
   "cell_type": "code",
   "execution_count": 2,
   "id": "03b7d75e-8791-4a4a-b4e3-b2e22c5afd51",
   "metadata": {
    "tags": []
   },
   "outputs": [
    {
     "name": "stdout",
     "output_type": "stream",
     "text": [
      "Total count: 665720 products, since 2019-06-07\n"
     ]
    }
   ],
   "source": [
    "%matplotlib widget\n",
    "import datetime\n",
    "import time\n",
    "import requests\n",
    "import progressbar\n",
    "from matplotlib import pyplot as plt\n",
    "import pandas as pd\n",
    "from pathlib import Path\n",
    "from ipywidgets import widgets, interact\n",
    "\n",
    "session = requests.Session()\n",
    "\n",
    "def get_count_of_products_since_date(start_date):\n",
    "    search_parameters = {\n",
    "        'provider': 'ASF',\n",
    "        'page_size': 0,\n",
    "        'collection_concept_id': 'C1595422627-ASF',\n",
    "        'updated_since': start_date.isoformat(timespec='seconds'),\n",
    "    }\n",
    "    results = session.get('https://cmr.earthdata.nasa.gov/search/granules.umm_json', params=search_parameters)\n",
    "    return results.json()['hits']\n",
    "\n",
    "def daterange(start_date, end_date):\n",
    "    for n in range(int((end_date - start_date).days)):\n",
    "        yield end_date - datetime.timedelta(n), n\n",
    "        \n",
    "start_date = datetime.datetime(year=2019, month=6, day=7, tzinfo=datetime.timezone.utc)\n",
    "total_count = get_count_of_products_since_date(start_date)\n",
    "print('Total count: {} products, since {}'.format(total_count, str(start_date.date())))"
   ]
  },
  {
   "cell_type": "markdown",
   "id": "acd1045b-7b01-4fd1-9b88-086ad1cd85d8",
   "metadata": {},
   "source": [
    "## Get count per day"
   ]
  },
  {
   "cell_type": "code",
   "execution_count": 3,
   "id": "e68e65d4-e7c2-494d-8a74-436c0abec169",
   "metadata": {},
   "outputs": [
    {
     "name": "stderr",
     "output_type": "stream",
     "text": [
      "100% (24 of 24) |########################| Elapsed Time: 0:00:03 Time:  0:00:03\n"
     ]
    }
   ],
   "source": [
    "#get count per day \n",
    "end_date = datetime.datetime.now(tz=datetime.timezone.utc)\n",
    "count_txt = 'asf_count.csv'\n",
    "\n",
    "if (Path.cwd()/count_txt).is_file():\n",
    "    df = pd.read_csv(count_txt)\n",
    "    df['date'] = pd.to_datetime(df['date'])\n",
    "    start_date = df['date'][0]\n",
    "else:\n",
    "    start_date = datetime.datetime(year=2019, month=6, day=7, tzinfo=datetime.timezone.utc)\n",
    "    df = pd.DataFrame(columns=['date', 'count'])\n",
    "\n",
    "ndays = (end_date - start_date).days\n",
    "\n",
    "with progressbar.ProgressBar(max_value=ndays) as bar:\n",
    "    for date, n in daterange(start_date, end_date):\n",
    "        count = total_count - get_count_of_products_since_date(date)\n",
    "        temp_df = pd.DataFrame({'date': [date], 'count': [count]})\n",
    "        df = pd.concat([df, temp_df], ignore_index=True)\n",
    "        bar.update(n)\n",
    "        \n",
    "## Save result to csv\n",
    "df['date'] = pd.to_datetime(df['date']) if not df['date'].dtype == 'datetime' else print('df is in correct format')\n",
    "df.to_csv('asf_count.csv')"
   ]
  },
  {
   "cell_type": "markdown",
   "id": "8b299dcc-74a3-465f-a654-e72b5b419ef3",
   "metadata": {},
   "source": [
    "## Plotting"
   ]
  },
  {
   "cell_type": "code",
   "execution_count": 49,
   "id": "e2405fae-83bf-4f51-8e72-dab652b247c0",
   "metadata": {},
   "outputs": [
    {
     "ename": "NameError",
     "evalue": "name 'option' is not defined",
     "output_type": "error",
     "traceback": [
      "\u001b[0;31m---------------------------------------------------------------------------\u001b[0m",
      "\u001b[0;31mNameError\u001b[0m                                 Traceback (most recent call last)",
      "Input \u001b[0;32mIn [49]\u001b[0m, in \u001b[0;36m<cell line: 37>\u001b[0;34m()\u001b[0m\n\u001b[1;32m     34\u001b[0m options \u001b[38;5;241m=\u001b[39m [(date\u001b[38;5;241m.\u001b[39mstrftime(\u001b[38;5;124m'\u001b[39m\u001b[38;5;132;01m%d\u001b[39;00m\u001b[38;5;124m/\u001b[39m\u001b[38;5;124m%\u001b[39m\u001b[38;5;124mb/\u001b[39m\u001b[38;5;124m%\u001b[39m\u001b[38;5;124mY\u001b[39m\u001b[38;5;124m'\u001b[39m), date) \u001b[38;5;28;01mfor\u001b[39;00m date \u001b[38;5;129;01min\u001b[39;00m df[\u001b[38;5;124m'\u001b[39m\u001b[38;5;124mdate\u001b[39m\u001b[38;5;124m'\u001b[39m]]\n\u001b[1;32m     35\u001b[0m index \u001b[38;5;241m=\u001b[39m (\u001b[38;5;241m0\u001b[39m, \u001b[38;5;28mlen\u001b[39m(options)\u001b[38;5;241m-\u001b[39m\u001b[38;5;241m1\u001b[39m)\n\u001b[1;32m     37\u001b[0m selection_range_slider \u001b[38;5;241m=\u001b[39m widgets\u001b[38;5;241m.\u001b[39mSelectionRangeSlider(\n\u001b[1;32m     38\u001b[0m     options\u001b[38;5;241m=\u001b[39moptions,\n\u001b[1;32m     39\u001b[0m     index\u001b[38;5;241m=\u001b[39mindex,\n\u001b[1;32m     40\u001b[0m     description\u001b[38;5;241m=\u001b[39m\u001b[38;5;124m'\u001b[39m\u001b[38;5;124mDates\u001b[39m\u001b[38;5;124m'\u001b[39m,\n\u001b[1;32m     41\u001b[0m     orientation\u001b[38;5;241m=\u001b[39m\u001b[38;5;124m'\u001b[39m\u001b[38;5;124mhorizontal\u001b[39m\u001b[38;5;124m'\u001b[39m,\n\u001b[0;32m---> 42\u001b[0m     layout\u001b[38;5;241m=\u001b[39m{\u001b[38;5;124m'\u001b[39m\u001b[38;5;124mstart\u001b[39m\u001b[38;5;124m'\u001b[39m:\u001b[38;5;28mmin\u001b[39m(\u001b[43moption\u001b[49m),\u001b[38;5;124m'\u001b[39m\u001b[38;5;124mwidth\u001b[39m\u001b[38;5;124m'\u001b[39m: \u001b[38;5;124m'\u001b[39m\u001b[38;5;124m700px\u001b[39m\u001b[38;5;124m'\u001b[39m}\n\u001b[1;32m     43\u001b[0m )\n\u001b[1;32m     45\u001b[0m figure, ax \u001b[38;5;241m=\u001b[39m plt\u001b[38;5;241m.\u001b[39msubplots(figsize\u001b[38;5;241m=\u001b[39m(\u001b[38;5;241m12\u001b[39m,\u001b[38;5;241m6\u001b[39m))\n\u001b[1;32m     46\u001b[0m plt\u001b[38;5;241m.\u001b[39mgcf()\u001b[38;5;241m.\u001b[39mautofmt_xdate()\n",
      "\u001b[0;31mNameError\u001b[0m: name 'option' is not defined"
     ]
    }
   ],
   "source": [
    "#### PLOT THE COUNT\n",
    "def update(date_range):\n",
    "    mask = (df['date'] > date_range[0]) & (df['date'] <= date_range[1])\n",
    "    plt.cla()\n",
    "\n",
    "    line, = ax.plot([min(df['date'][mask]), max(df['date'][mask])], \n",
    "                    [max(df['count'][mask]) - min(df['count'][mask]), max(df['count'][mask]) - min(df['count'][mask])],\n",
    "                    color='red')\n",
    "    data = ax.bar(df['date'][mask], \n",
    "                  df['count'][mask] - min(df['count'][mask]),\n",
    "                  width=1)\n",
    "    \n",
    "    date_range_txt = df[mask].date.min().strftime('%d/%b/%Y') + ' - ' + df[mask].date.max().strftime('%d/%b/%Y')\n",
    "    txt1 = 'Count: {}'.format(max(df['count'][mask]) - min(df['count'][mask]))\n",
    "    txt2 = 'GUNW count \\n {}'.format(date_range_txt)  \n",
    "    text = plt.text(0.05,0.95, txt1,fontsize=14,transform=ax.transAxes, color='red')\n",
    "    \n",
    "    print('Date range: ', date_range_txt)\n",
    "    print('Count: ', max(df['count'][mask]) - min(df['count'][mask]))\n",
    "    \n",
    "    plt.grid()\n",
    "    ax.set_title(txt2)\n",
    "    ax.set_xlim([min(df['date'][mask]), max(df['date'][mask])])\n",
    "    ax.set_ylim([min(df['count'][mask]) - min(df['count'][mask]), \n",
    "                (max(df['count'][mask]) - min(df['count'][mask])) + (max(df['count'][mask]) - min(df['count'][mask]))*0.08])\n",
    "    ax.set_ylabel('Count #')\n",
    "    ax.set_xlabel('Date')\n",
    "    \n",
    "    figure.canvas.draw()\n",
    "    figure.canvas.flush_events()\n",
    "  \n",
    "## Sort it\n",
    "df = df.sort_values(by=['date'])\n",
    "options = [(date.strftime('%d/%b/%Y'), date) for date in df['date']]\n",
    "index = (0, len(options)-1)\n",
    "\n",
    "selection_range_slider = widgets.SelectionRangeSlider(\n",
    "    options=options,\n",
    "    index=index,\n",
    "    description='Dates',\n",
    "    orientation='horizontal',\n",
    "    layout={'start':min(options),'width': '700px'}\n",
    ")\n",
    "\n",
    "figure, ax = plt.subplots(figsize=(12,6))\n",
    "plt.gcf().autofmt_xdate()\n",
    "plt.show()\n",
    "\n",
    "widgets.interact(\n",
    "    update,\n",
    "    date_range=selection_range_slider\n",
    ");"
   ]
  },
  {
   "cell_type": "code",
   "execution_count": 53,
   "id": "2c73c1d8-49a4-4c4a-86a3-ff1b813d38a9",
   "metadata": {},
   "outputs": [
    {
     "ename": "TypeError",
     "evalue": "list indices must be integers or slices, not tuple",
     "output_type": "error",
     "traceback": [
      "\u001b[0;31m---------------------------------------------------------------------------\u001b[0m",
      "\u001b[0;31mTypeError\u001b[0m                                 Traceback (most recent call last)",
      "Input \u001b[0;32mIn [53]\u001b[0m, in \u001b[0;36m<cell line: 1>\u001b[0;34m()\u001b[0m\n\u001b[0;32m----> 1\u001b[0m \u001b[43moptions\u001b[49m\u001b[43m[\u001b[49m\u001b[43m:\u001b[49m\u001b[43m,\u001b[49m\u001b[38;5;241;43m1\u001b[39;49m\u001b[43m]\u001b[49m\n",
      "\u001b[0;31mTypeError\u001b[0m: list indices must be integers or slices, not tuple"
     ]
    }
   ],
   "source": [
    "options[:,1]"
   ]
  },
  {
   "cell_type": "code",
   "execution_count": null,
   "id": "1fa2830a-ab06-4d8e-9fe7-66a0d18e7544",
   "metadata": {},
   "outputs": [],
   "source": []
  }
 ],
 "metadata": {
  "kernelspec": {
   "display_name": "NISAR_SE",
   "language": "python",
   "name": "conda-env-NISAR_SE-py"
  },
  "language_info": {
   "codemirror_mode": {
    "name": "ipython",
    "version": 3
   },
   "file_extension": ".py",
   "mimetype": "text/x-python",
   "name": "python",
   "nbconvert_exporter": "python",
   "pygments_lexer": "ipython3",
   "version": "3.8.13"
  }
 },
 "nbformat": 4,
 "nbformat_minor": 5
}
